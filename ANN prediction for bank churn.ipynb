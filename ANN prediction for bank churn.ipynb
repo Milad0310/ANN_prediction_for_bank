{
 "cells": [
  {
   "cell_type": "markdown",
   "id": "a7e066c9",
   "metadata": {},
   "source": [
    "# DataPreprocessing"
   ]
  },
  {
   "cell_type": "code",
   "execution_count": null,
   "id": "ae51c82e",
   "metadata": {},
   "outputs": [],
   "source": [
    "# Import Library\n",
    "import pandas as pd\n",
    "import numpy as np\n",
    "import tensorflow as tf"
   ]
  },
  {
   "cell_type": "code",
   "execution_count": 40,
   "id": "90a1556f",
   "metadata": {},
   "outputs": [],
   "source": [
    "# Import Dataset\n",
    "dataset = pd.read_csv('Churn_Modelling.csv')\n",
    "X = dataset.iloc[:,3:-1].values\n",
    "y =dataset.iloc[:,-1].values"
   ]
  },
  {
   "cell_type": "code",
   "execution_count": 42,
   "id": "c12174da",
   "metadata": {},
   "outputs": [],
   "source": [
    "#Encoding categorical Variable\n",
    "from sklearn import preprocessing\n",
    "le = preprocessing.LabelEncoder()\n",
    "X[:,2] = le.fit_transform(X[:,2])"
   ]
  },
  {
   "cell_type": "code",
   "execution_count": 43,
   "id": "5fe45037",
   "metadata": {},
   "outputs": [],
   "source": [
    "#One Hot Encoding the \"Geography\" column\n",
    "from sklearn.compose import ColumnTransformer\n",
    "from sklearn.preprocessing import OneHotEncoder\n",
    "ct = ColumnTransformer(transformers=[('encoder', OneHotEncoder(), [1])], remainder='passthrough')\n",
    "X = np.array(ct.fit_transform(X))"
   ]
  },
  {
   "cell_type": "code",
   "execution_count": 45,
   "id": "a9093945",
   "metadata": {},
   "outputs": [],
   "source": [
    "#spliting dataset into train & test set\n",
    "from sklearn.model_selection import train_test_split\n",
    "X_train, X_test, y_train, y_test = train_test_split(X, y, test_size=0.25, random_state=42)"
   ]
  },
  {
   "cell_type": "code",
   "execution_count": 54,
   "id": "d9f67161",
   "metadata": {},
   "outputs": [],
   "source": [
    "#Standardize features\n",
    "from sklearn.preprocessing import StandardScaler\n",
    "scaler = StandardScaler()\n",
    "X_train = scaler.fit_transform(X_train)\n",
    "X_test = scaler.transform(X_test)"
   ]
  },
  {
   "cell_type": "markdown",
   "id": "b8c2fb0c",
   "metadata": {},
   "source": [
    "# Building the ANN"
   ]
  },
  {
   "cell_type": "code",
   "execution_count": null,
   "id": "0f43570e",
   "metadata": {},
   "outputs": [],
   "source": [
    "ann = tf.keras.models.Sequential()"
   ]
  },
  {
   "cell_type": "code",
   "execution_count": null,
   "id": "2b2e7117",
   "metadata": {},
   "outputs": [],
   "source": [
    "#add new layer to ann\n",
    "ann.add(model.add(tf.keras.layers.Dense(units = 6, activation = 'relu')))"
   ]
  },
  {
   "cell_type": "code",
   "execution_count": null,
   "id": "f132efbf",
   "metadata": {},
   "outputs": [],
   "source": [
    "#add new layer to ann\n",
    "ann.add(model.add(tf.keras.layers.Dense(units = 6, activation = 'relu')))"
   ]
  },
  {
   "cell_type": "code",
   "execution_count": null,
   "id": "b03593a8",
   "metadata": {},
   "outputs": [],
   "source": [
    "#ad output layer\n",
    "ann.add(model.add(tf.keras.layers.Dense(units = 1, activation = 'sigmoid')))"
   ]
  },
  {
   "cell_type": "markdown",
   "id": "3976e073",
   "metadata": {},
   "source": [
    "# Train ann"
   ]
  },
  {
   "cell_type": "code",
   "execution_count": null,
   "id": "8e963a53",
   "metadata": {},
   "outputs": [],
   "source": [
    "#compile ann\n",
    "ann.compile(optimizer = 'adam', loss = 'binary_crossentropy', metrics = ['accuracy'])"
   ]
  },
  {
   "cell_type": "code",
   "execution_count": null,
   "id": "3fded7fb",
   "metadata": {},
   "outputs": [],
   "source": [
    "# train ann\n",
    "ann.fit(X_train, y_train,epochs = 100 , bach_size = 32 )"
   ]
  },
  {
   "cell_type": "code",
   "execution_count": null,
   "id": "1ec9f6b2",
   "metadata": {},
   "outputs": [],
   "source": [
    "#predict test set\n",
    "y_pred = ann.predict(X_test)"
   ]
  },
  {
   "cell_type": "markdown",
   "id": "ba0dc00f",
   "metadata": {},
   "source": [
    "# Making the Confusion Matrix"
   ]
  },
  {
   "cell_type": "code",
   "execution_count": null,
   "id": "21ba9fbe",
   "metadata": {},
   "outputs": [],
   "source": [
    "from sklearn.metrics import confusion_matrix, accuracy_score\n",
    "con_mtrx = confusion_matrix(y_test, y_pred)\n",
    "accurdy = accuracy_score(y_test, y_pred)"
   ]
  }
 ],
 "metadata": {
  "kernelspec": {
   "display_name": "Python 3 (ipykernel)",
   "language": "python",
   "name": "python3"
  },
  "language_info": {
   "codemirror_mode": {
    "name": "ipython",
    "version": 3
   },
   "file_extension": ".py",
   "mimetype": "text/x-python",
   "name": "python",
   "nbconvert_exporter": "python",
   "pygments_lexer": "ipython3",
   "version": "3.9.13"
  }
 },
 "nbformat": 4,
 "nbformat_minor": 5
}
